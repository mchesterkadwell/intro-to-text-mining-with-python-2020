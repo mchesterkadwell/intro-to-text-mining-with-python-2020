{
 "cells": [
  {
   "cell_type": "markdown",
   "metadata": {
    "collapsed": true
   },
   "source": [
    "\n",
    "# Introduction to Python, Jupyter Notebooks and Working with Text\n",
    "\n",
    "---\n",
    "---\n",
    "\n",
    "## The Programming Language Python\n",
    "Python is a **general-purpose programming language** that can be used in many different ways; for example, it can be used to analyse data, create websites and automate boring stuff. \n",
    "\n",
    "Python is **excellent for beginners** because its basic syntax is simple and uncluttered with punctuation. Coding in Python often feels like writing in natural language. Python is a very popular language and has a large, friendly community of users around the world, so there are many tutorials and helpful experts out there to help you get started.\n",
    "\n",
    "![Logo of the Python programming language](https://www.python.org/static/img/python-logo.png \"Logo of the Python programming language\")\n",
    "\n",
    "---\n",
    "---\n",
    "\n",
    "## Jupyter Notebooks\n",
    "\n",
    "This 'document' you are reading right now is a Jupyter Notebook. It allows you to combine explanatory **text** and Python **code** that executes to produce the results you can see on the same page. You can also create and display visualisations from your data in the same document.\n",
    "\n",
    "Notebooks are particularly useful for *exploring* your data at an early stage and *documenting* exactly what steps you have taken (and why) to get to your results. This documentation is extremely important to record what you did so that others can reproduce your work... and because otherwise you are guaranteed to forget what you did in the future.\n",
    "\n",
    "![Logo of Jupyter Notebooks](https://jupyter.org/assets/nav_logo.svg \"Logo of Jupyter Notebooks\")\n",
    "\n",
    "For a more in-depth tutorial on getting started with Jupyter Notebooks try this [Jupyter Notebook for Beginners Tutorial](https://towardsdatascience.com/jupyter-notebook-for-beginners-a-tutorial-f55b57c23ada)."
   ]
  },
  {
   "cell_type": "markdown",
   "metadata": {},
   "source": [
    "### Notebook Basics\n",
    "\n",
    "#### Text cells\n",
    "\n",
    "The box this text is written in is called a *cell*. It is a *text cell* marked up in a very simple language called 'Markdown'. Here is a useful [Markdown cheatsheet](https://github.com/adam-p/markdown-here/wiki/Markdown-Cheatsheet). You can edit and then run cells to produce a result. Running this text cell produces formatted text.\n",
    "\n",
    "---\n",
    "> Exercise: Double-click on this cell now to edit it. Run the cell with the keyboard shortcut `Crtl+Enter`, or by clicking the Run button in the toolbar at the top.\n",
    "\n",
    "<img src=\"https://problemsolvingwithpython.com/02-Jupyter-Notebooks/images/run_cell.png\" alt=\"Click the Run button to run a cell\" title=\"Click the Run button to run a cell\" width=\"450\">\n",
    "\n",
    "---\n",
    "\n",
    "#### Code cells\n",
    "\n",
    "The other main kind of cell is a *code cell*. The cell immediately below this one is a code cell. Running a code cell runs the code in the cell (marked by the **`In [1]:`**) and produces a result (marked by the **`Out [1]:`**). We say the code is **evaluated**.\n",
    "\n",
    "---\n",
    "> Exercise: Try running the code cell below to evaluate the Python code. Then change the sum to try and get a different result.\n",
    "\n",
    "---"
   ]
  },
  {
   "cell_type": "code",
   "execution_count": null,
   "metadata": {},
   "outputs": [],
   "source": [
    "3 + 4"
   ]
  },
  {
   "cell_type": "markdown",
   "metadata": {},
   "source": [
    "From now on, always try running every code cell you see."
   ]
  },
  {
   "cell_type": "code",
   "execution_count": null,
   "metadata": {},
   "outputs": [],
   "source": [
    "# This is a comment in a code cell. Comments start with a # symbol. They are ignored and do not do anything."
   ]
  },
  {
   "cell_type": "markdown",
   "metadata": {},
   "source": [
    "**Important!**\n",
    "\n",
    "When running code cells you need to run them in order, from top to bottom of the notebook. This is because cells rely on the results of other cells. Without those earlier results being available you will get an error.\n",
    "\n",
    "To run all the cells in a notebook at once, and in order, choose Cell > Run All from the menu above. To clear all the results from all the cells, so you can start again, choose Cell > All Output > Clear."
   ]
  },
  {
   "cell_type": "markdown",
   "metadata": {},
   "source": [
    "---\n",
    "---\n",
    "\n",
    "## How to Join In with Coding\n",
    "\n",
    "* **Edit** any cell and try changing the code, or delete it and write your own.\n",
    "\n",
    "* Before running a cell, try to **guess** what the output will be by thinking through what will happen.\n",
    "\n",
    "* If you encounter an **error**, realise this is normal. Errors happen all the time and by reading the error message you will learn something new.\n",
    "\n",
    "* Remember: you cannot 'break' your computer by editing this code, so **don't be afraid to experiment**."
   ]
  },
  {
   "cell_type": "markdown",
   "metadata": {},
   "source": [
    "---\n",
    "---\n",
    "\n",
    "## Simple String Manipulation in Python\n",
    "\n",
    "When we want to store and manipulate books, archives, records or other textual data in a computer, we have to do so with **strings**. Strings are the way that Python (and most programming languages) deal with text.\n",
    "\n",
    "A string is a simple *sequence of characters*, for example, the string `coffee` is a sequence of the individual characters `c` `o` `f` `f` `e` `e`.\n",
    "\n",
    "![A cup of coffee](https://upload.wikimedia.org/wikipedia/commons/thumb/f/f7/Cup-o-coffee-simple.svg/240px-Cup-o-coffee-simple.svg.png \"A cup of coffee\")\n",
    "\n",
    "This section introduces some basic things you can do in Python to create and manipulate strings. What you learn here forms the basis of any and all text-mining you may do with Python in the future. It's worth getting the fundamentals right."
   ]
  },
  {
   "cell_type": "markdown",
   "metadata": {},
   "source": [
    "### Create and Store Strings with Names\n",
    "Strings are simple to create in Python. You can simply write some characters in quote marks (either single `'` or double `\"` is fine in general).\n",
    "\n",
    "By running the cell below Python will evaluate the code, recognise it is a new string, and then print it out. Try this now."
   ]
  },
  {
   "cell_type": "code",
   "execution_count": null,
   "metadata": {},
   "outputs": [],
   "source": [
    "'Butterflies are important as pollinators.'"
   ]
  },
  {
   "cell_type": "markdown",
   "metadata": {},
   "source": [
    "In order to do something useful with this string, other than print it out, we need to store it by using the *assignment operator* `=` (equals sign). Whatever is on the right-hand side of the `=` is stored with the _name_ on the left-hand side. In other words, the name is assigned to the value. The name is like a label that sticks to the value and can be used to refer to it at a later point.\n",
    "\n",
    "The pattern is as follows:\n",
    "\n",
    "`name = value`\n",
    "\n",
    "(In other programming languages, this is called creating a *variable*.)\n",
    "\n",
    "Run the code cell below."
   ]
  },
  {
   "cell_type": "code",
   "execution_count": null,
   "metadata": {},
   "outputs": [],
   "source": [
    "my_sentence = 'Butterflies are important as pollinators.'"
   ]
  },
  {
   "cell_type": "markdown",
   "metadata": {},
   "source": [
    "Notice that nothing is printed to the screen.\n",
    "\n",
    "That's because the string is stored with the name `my_sentence` rather than being printed out. In order to see what is 'inside' `my_sentence` we can simply write `my_sentence` in a code cell, run it, and the interpreter will print it out for us.\n",
    "\n",
    "Remember to run every code cell you come across in the notebook from now on."
   ]
  },
  {
   "cell_type": "code",
   "execution_count": null,
   "metadata": {},
   "outputs": [],
   "source": [
    "my_sentence"
   ]
  },
  {
   "cell_type": "markdown",
   "metadata": {},
   "source": [
    "---\n",
    "> Exercise: Try creating your own string in the code cell below and assign it the name `my_string`. Then add a second line of code that will cause the string to be printed out. You should have two lines of code before you run the code cell.\n",
    "\n",
    "---\n",
    "\n",
    "If you are in need of inspiration, copy and paste a string from the [Cambridge Digital Library Darwin-Hooker letters](https://cudl.lib.cam.ac.uk/collections/darwinhooker/1)."
   ]
  },
  {
   "cell_type": "code",
   "execution_count": null,
   "metadata": {},
   "outputs": [],
   "source": [
    "# Write code here"
   ]
  },
  {
   "cell_type": "markdown",
   "metadata": {},
   "source": [
    "### Concatenate Strings\n",
    "If you add two numbers together with a plus sign (`+`) you get addition. With strings, if you add two (or more) of them together with `+` they are concatenated, that is, the sequences of characters are joined."
   ]
  },
  {
   "cell_type": "code",
   "execution_count": null,
   "metadata": {},
   "outputs": [],
   "source": [
    "another_sentence = my_sentence + ' Bees are too.'\n",
    "another_sentence"
   ]
  },
  {
   "cell_type": "code",
   "execution_count": null,
   "metadata": {},
   "outputs": [],
   "source": [
    "# Write code here to create and print a new string that concatenates 3 strings together of your choice"
   ]
  },
  {
   "cell_type": "markdown",
   "metadata": {},
   "source": [
    "### Manipulate Whole Strings with Methods\n",
    "Python strings have some built-in *methods* that allow you to manipulate a whole string at once. You apply the method using what is called *dot notation*, with the name of the string first, followed by a dot (`.`), then the name of the method, and finally a pair of parenthesis (`()`), which tells Python to run the method.\n",
    "\n",
    "The pattern is as follows:\n",
    "\n",
    "`name_of_my_string.method_name()`\n",
    "\n",
    "You can change all characters to lowercase or uppercase:"
   ]
  },
  {
   "cell_type": "code",
   "execution_count": null,
   "metadata": {},
   "outputs": [],
   "source": [
    "my_string.lower()"
   ]
  },
  {
   "cell_type": "code",
   "execution_count": null,
   "metadata": {},
   "outputs": [],
   "source": [
    "my_string.upper()"
   ]
  },
  {
   "cell_type": "markdown",
   "metadata": {},
   "source": [
    "Note that these functions do not change the original string but instead create a new one. The original string is still the same as it was before:"
   ]
  },
  {
   "cell_type": "code",
   "execution_count": null,
   "metadata": {},
   "outputs": [],
   "source": [
    "my_string"
   ]
  },
  {
   "cell_type": "markdown",
   "metadata": {},
   "source": [
    "In order to 'save' the newly manipulated string, you have to assign it a new name:"
   ]
  },
  {
   "cell_type": "code",
   "execution_count": null,
   "metadata": {},
   "outputs": [],
   "source": [
    "new_string = my_string.lower()\n",
    "new_string"
   ]
  },
  {
   "cell_type": "markdown",
   "metadata": {},
   "source": [
    "### Test Strings with Methods\n",
    "\n",
    "You can also test a string to see if it is passes some test, e.g. is the string all alphabetic characters only?"
   ]
  },
  {
   "cell_type": "code",
   "execution_count": null,
   "metadata": {},
   "outputs": [],
   "source": [
    "my_sentence.isalpha()"
   ]
  },
  {
   "cell_type": "markdown",
   "metadata": {},
   "source": [
    "There are many different string methods to try.\n",
    "\n",
    "The [full documentation on string methods](https://docs.python.org/3.10/library/stdtypes.html#string-methods) gives all the technical details. It is a skill and art to read code documentation, and you should start to learn it as soon as you can on your code journey. But it's not necessary for the session today.\n",
    "\n",
    "---\n",
    "> Exercise: Try three of the string methods listed in the documentation above on your own string `my_string`.\n",
    "\n",
    "---\n"
   ]
  },
  {
   "cell_type": "code",
   "execution_count": null,
   "metadata": {},
   "outputs": [],
   "source": [
    "# Write code here"
   ]
  },
  {
   "cell_type": "markdown",
   "metadata": {},
   "source": [
    "### Access Individual Characters with an Index\n",
    "A string is just a sequence of characters, much like a list. You can access individual characters in a string by specifying which ones you want. To do this we use what is called an *index* number in square brackets (`[]`). Like this:"
   ]
  },
  {
   "cell_type": "code",
   "execution_count": null,
   "metadata": {},
   "outputs": [],
   "source": [
    "my_sentence[1]"
   ]
  },
  {
   "cell_type": "markdown",
   "metadata": {},
   "source": [
    "Here the index is `1` and we expect to get the first character of the string... or do we? Did you notice something unexpected?\n",
    "\n",
    "It gave us `u` instead of `B`.\n",
    "\n",
    "In programming, things are often counted from 0 rather than 1, which is called *zero-based numbering*. Thus, in the example above, `1` gives us the *second* character in the string, not the first like you might expect.\n",
    "\n",
    "If you want the first character in the string, you need to specify the index `0`."
   ]
  },
  {
   "cell_type": "code",
   "execution_count": null,
   "metadata": {},
   "outputs": [],
   "source": [
    "# Write code here to get the first character in the string"
   ]
  },
  {
   "cell_type": "markdown",
   "metadata": {},
   "source": [
    "### Access a Range of Characters with Slicing\n",
    "\n",
    "You can also pick out a range of characters from within a string, by giving a start index, followed by an end index, with a semi-colon (`:`) in between. This is called *slice notation*.\n",
    "\n",
    "The example below gives us the character at index `0` all the way up to, but **not** including, the character at index `20`."
   ]
  },
  {
   "cell_type": "code",
   "execution_count": null,
   "metadata": {},
   "outputs": [],
   "source": [
    "my_sentence[0:20]"
   ]
  },
  {
   "cell_type": "code",
   "execution_count": null,
   "metadata": {},
   "outputs": [],
   "source": [
    "# Write code here to access the word \"important\" from the string"
   ]
  },
  {
   "cell_type": "markdown",
   "metadata": {},
   "source": [
    "We can also slice in jumps through a string. To do this, we add what is known is the *step*. \n",
    "\n",
    "The pattern is as follows:\n",
    "    \n",
    "`my_sentence[start:stop:step]`\n",
    "\n",
    "So, to go in jumps of 2 characters:"
   ]
  },
  {
   "cell_type": "code",
   "execution_count": null,
   "metadata": {},
   "outputs": [],
   "source": [
    "my_sentence[0:20:2]"
   ]
  },
  {
   "cell_type": "markdown",
   "metadata": {},
   "source": [
    "### Lists of Strings\n",
    "Another important and useful thing we can do with strings is storing them in a *list*. For example, you could have each sentence in a document stored as a list of strings.\n",
    "\n",
    "To create a new list of strings we list them inside square brackets `[]` on the right-hand side of the assignment operator (`=`):"
   ]
  },
  {
   "cell_type": "code",
   "execution_count": null,
   "metadata": {},
   "outputs": [],
   "source": [
    "my_list = ['Butterflies are important as pollinators',\n",
    "          'Butterflies feed primarily on nectar from flowers',\n",
    "          'Butterflies are widely used in objects of art']"
   ]
  },
  {
   "cell_type": "code",
   "execution_count": null,
   "metadata": {},
   "outputs": [],
   "source": [
    "# Write code here to print out the list"
   ]
  },
  {
   "cell_type": "markdown",
   "metadata": {},
   "source": [
    "Yes, we have used square brackets (`[]`) before for indexing individual characters (above), but this is a different use of square brackets to create lists. If you are unfamiliar with Python, I can reassure you that eventually you get used to these different uses of square brackets."
   ]
  },
  {
   "cell_type": "markdown",
   "metadata": {},
   "source": [
    "### Access Individual Strings in a List with an Index\n",
    "Just like with strings, we can access individual items inside a list by index number:"
   ]
  },
  {
   "cell_type": "code",
   "execution_count": null,
   "metadata": {},
   "outputs": [],
   "source": [
    "my_list[0]"
   ]
  },
  {
   "cell_type": "markdown",
   "metadata": {},
   "source": [
    "### Access a Range of Strings in a List with Slicing\n",
    "Likewise, we can access a range of items inside a list by using slice notation:"
   ]
  },
  {
   "cell_type": "code",
   "execution_count": null,
   "metadata": {},
   "outputs": [],
   "source": [
    "my_list[0:2]"
   ]
  },
  {
   "cell_type": "markdown",
   "metadata": {},
   "source": [
    "Just like with strings, we can also slice in steps."
   ]
  },
  {
   "cell_type": "code",
   "execution_count": null,
   "metadata": {},
   "outputs": [],
   "source": [
    "# Write code here to slice every other item in `my_list` (i.e. the first and third item)"
   ]
  },
  {
   "cell_type": "markdown",
   "metadata": {},
   "source": [
    "To access the whole list we can use the shorthand:"
   ]
  },
  {
   "cell_type": "code",
   "execution_count": null,
   "metadata": {},
   "outputs": [],
   "source": [
    "my_list[:]"
   ]
  },
  {
   "cell_type": "markdown",
   "metadata": {},
   "source": [
    "Why would we want to do this? Well, combine this trick with a negative step, and we can go *backwards* through the whole list!"
   ]
  },
  {
   "cell_type": "code",
   "execution_count": null,
   "metadata": {},
   "outputs": [],
   "source": [
    "my_list[::-1]"
   ]
  },
  {
   "cell_type": "markdown",
   "metadata": {},
   "source": [
    "---\n",
    "---\n",
    "## Summary\n",
    "\n",
    "Let's take a moment to summarise what we have covered so far.\n",
    "\n",
    "* Python is a general-purpose programming language that is good for beginners.\n",
    "* Jupyter notebooks have two main types of **cell** to run: **code** and **text** (Markdown).\n",
    "* How to create and store a **string** with a **name** (_aka_ variables).\n",
    "* How to manipulate strings by:\n",
    " * **Concatenating** two or more strings together;\n",
    " * Accessed an individual character with an **index**;\n",
    " * Accessed a range of characters with **slicing**;\n",
    " * Changing whole strings or testing strings with **string methods**.\n",
    "* How to create and store a **list** of strings with a name.\n",
    "* Accessed strings in a list with an index and with slicing."
   ]
  }
 ],
 "metadata": {
  "kernelspec": {
   "display_name": "Python 3 (ipykernel)",
   "language": "python",
   "name": "python3"
  },
  "language_info": {
   "codemirror_mode": {
    "name": "ipython",
    "version": 3
   },
   "file_extension": ".py",
   "mimetype": "text/x-python",
   "name": "python",
   "nbconvert_exporter": "python",
   "pygments_lexer": "ipython3",
   "version": "3.9.10"
  }
 },
 "nbformat": 4,
 "nbformat_minor": 1
}
